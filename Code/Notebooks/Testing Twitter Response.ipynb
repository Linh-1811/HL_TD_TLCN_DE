{
 "cells": [
  {
   "cell_type": "code",
   "execution_count": 9,
   "id": "0be1a8ce",
   "metadata": {
    "executionInfo": {
     "elapsed": 5033,
     "status": "ok",
     "timestamp": 1733395171717,
     "user": {
      "displayName": "Hoàng Anh Nguyễn",
      "userId": "15960535841704227682"
     },
     "user_tz": -420
    },
    "id": "0be1a8ce"
   },
   "outputs": [],
   "source": [
    "# Import các thư viện\n",
    "import pandas as pd\n",
    "import numpy as np\n",
    "import itertools\n",
    "import matplotlib.pyplot as plt\n",
    "from sklearn.metrics import classification_report, accuracy_score, precision_score, recall_score, confusion_matrix,f1_score,roc_auc_score"
   ]
  },
  {
   "cell_type": "code",
   "execution_count": 10,
   "id": "7247dc3f",
   "metadata": {
    "executionInfo": {
     "elapsed": 319,
     "status": "ok",
     "timestamp": 1733395250997,
     "user": {
      "displayName": "Hoàng Anh Nguyễn",
      "userId": "15960535841704227682"
     },
     "user_tz": -420
    },
    "id": "7247dc3f"
   },
   "outputs": [],
   "source": [
    "# Đọc dữ liệu từ file CSV chứa các nhãn thực tế và dự đoán\n",
    "response_df = pd.read_csv('../Data/catalogue.csv')"
   ]
  },
  {
   "cell_type": "code",
   "execution_count": 11,
   "id": "49a6ba78",
   "metadata": {
    "executionInfo": {
     "elapsed": 307,
     "status": "ok",
     "timestamp": 1733395255485,
     "user": {
      "displayName": "Hoàng Anh Nguyễn",
      "userId": "15960535841704227682"
     },
     "user_tz": -420
    },
    "id": "49a6ba78"
   },
   "outputs": [],
   "source": [
    "# Loại bỏ khoảng trắng trong các nhãn 'Sentiment' và 'Predicted_sentiment'\n",
    "response_df['Sentiment'] = response_df['Sentiment'].str.replace(\" \",\"\")\n",
    "response_df['Predicted_sentiment'] = response_df['Predicted_sentiment'].str.replace(\" \",\"\")"
   ]
  },
  {
   "cell_type": "code",
   "execution_count": 12,
   "id": "45815ea9",
   "metadata": {
    "executionInfo": {
     "elapsed": 308,
     "status": "ok",
     "timestamp": 1733395257252,
     "user": {
      "displayName": "Hoàng Anh Nguyễn",
      "userId": "15960535841704227682"
     },
     "user_tz": -420
    },
    "id": "45815ea9"
   },
   "outputs": [],
   "source": [
    "# Chuyển các nhãn thực tế và dự đoán thành danh sách\n",
    "y_test = response_df['Sentiment'].tolist()  # Nhãn thực tế\n",
    "y_pred = response_df['Predicted_sentiment'].tolist()  # Nhãn dự đoán"
   ]
  },
  {
   "cell_type": "code",
   "execution_count": 13,
   "id": "c7713a6a",
   "metadata": {
    "colab": {
     "base_uri": "https://localhost:8080/"
    },
    "executionInfo": {
     "elapsed": 301,
     "status": "ok",
     "timestamp": 1733395258548,
     "user": {
      "displayName": "Hoàng Anh Nguyễn",
      "userId": "15960535841704227682"
     },
     "user_tz": -420
    },
    "id": "c7713a6a",
    "outputId": "6c82894a-249d-4c0e-d995-0744fb6282c2"
   },
   "outputs": [
    {
     "data": {
      "text/plain": [
       "array([[8, 2, 0],\n",
       "       [0, 0, 0],\n",
       "       [0, 0, 2]], dtype=int64)"
      ]
     },
     "execution_count": 13,
     "metadata": {},
     "output_type": "execute_result"
    }
   ],
   "source": [
    "# Tính toán ma trận nhầm lẫn (Confusion Matrix)\n",
    "cnf_matrix = confusion_matrix(y_test, y_pred)  # Tạo ma trận nhầm lẫn từ nhãn thực tế và dự đoán\n",
    "cnf_matrix  # In ma trận nhầm lẫn ra màn hình"
   ]
  },
  {
   "cell_type": "code",
   "execution_count": 14,
   "id": "fdde975b",
   "metadata": {
    "executionInfo": {
     "elapsed": 1,
     "status": "ok",
     "timestamp": 1733395259526,
     "user": {
      "displayName": "Hoàng Anh Nguyễn",
      "userId": "15960535841704227682"
     },
     "user_tz": -420
    },
    "id": "fdde975b"
   },
   "outputs": [],
   "source": [
    "# Định nghĩa hàm vẽ ma trận nhầm lẫn\n",
    "def plot_confusion_matrix(cm, classes):\n",
    "    tick_marks = np.arange(len(classes))  # Tạo các chỉ mục cho các lớp\n",
    "\n",
    "    # Vẽ các giá trị vào ma trận nhầm lẫn\n",
    "    for i, j in itertools.product(range(cm.shape[0]), range(cm.shape[1])):\n",
    "        plt.text(j, i, format(cm[i, j]), horizontalalignment=\"center\",\n",
    "                 color=\"white\" if cm[i, j] > (cm.max() / 2.0) else \"black\")  # Tô màu chữ tùy theo giá trị\n",
    "\n",
    "    # Vẽ ma trận nhầm lẫn dưới dạng biểu đồ màu\n",
    "    plt.imshow(cm, cmap = plt.cm.YlGnBu)  # Dùng màu YlGnBu cho ma trận\n",
    "    plt.colorbar()  # Hiển thị thanh màu\n",
    "    plt.title('Confusion matrix')  # Tiêu đề biểu đồ\n",
    "    plt.ylabel('True label')  # Nhãn trục y (Nhãn thực tế)\n",
    "    plt.xlabel('Predicted label')  # Nhãn trục x (Nhãn dự đoán)\n",
    "    plt.xticks(tick_marks, classes)  # Đặt nhãn trục x\n",
    "    plt.yticks(tick_marks, classes)  # Đặt nhãn trục y\n",
    "    plt.tight_layout()  # Điều chỉnh để không bị cắt xén\n"
   ]
  },
  {
   "cell_type": "code",
   "execution_count": 15,
   "id": "5c30c354",
   "metadata": {
    "colab": {
     "base_uri": "https://localhost:8080/",
     "height": 487
    },
    "executionInfo": {
     "elapsed": 395,
     "status": "ok",
     "timestamp": 1733395261134,
     "user": {
      "displayName": "Hoàng Anh Nguyễn",
      "userId": "15960535841704227682"
     },
     "user_tz": -420
    },
    "id": "5c30c354",
    "outputId": "86468670-2f0b-452a-b489-c7921867c1ea"
   },
   "outputs": [
    {
     "data": {
      "image/png": "[encoded data removed]",
      "text/plain": [
       "<Figure size 640x480 with 2 Axes>"
      ]
     },
     "metadata": {},
     "output_type": "display_data"
    }
   ],
   "source": [
    "# Gọi hàm vẽ ma trận nhầm lẫn\n",
    "plot_confusion_matrix(cnf_matrix, classes=['Negative', 'Neutral', 'Positive'])"
   ]
  },
  {
   "cell_type": "code",
   "execution_count": 16,
   "id": "e8f34b97",
   "metadata": {
    "colab": {
     "base_uri": "https://localhost:8080/"
    },
    "executionInfo": {
     "elapsed": 3,
     "status": "ok",
     "timestamp": 1733395261923,
     "user": {
      "displayName": "Hoàng Anh Nguyễn",
      "userId": "15960535841704227682"
     },
     "user_tz": -420
    },
    "id": "e8f34b97",
    "outputId": "d0928bbe-1ae6-4e48-ed7e-7cd308286ef9"
   },
   "outputs": [
    {
     "name": "stdout",
     "output_type": "stream",
     "text": [
      "\n",
      "Accuracy: 0.83\n",
      "\n",
      "Weighted Precision: 1.00\n",
      "Weighted Recall: 0.83\n",
      "Weighted F1-score: 0.91\n"
     ]
    },
    {
     "name": "stderr",
     "output_type": "stream",
     "text": [
      "e:\\2024_2025_HK1\\TLCN\\telekafka\\Lib\\site-packages\\sklearn\\metrics\\_classification.py:1531: UndefinedMetricWarning: Recall is ill-defined and being set to 0.0 in labels with no true samples. Use `zero_division` parameter to control this behavior.\n",
      "  _warn_prf(average, modifier, f\"{metric.capitalize()} is\", len(result))\n"
     ]
    }
   ],
   "source": [
    "# In ra các chỉ số đánh giá mô hình\n",
    "print('\\nAccuracy: {:.2f}\\n'.format(accuracy_score(y_test, y_pred)))\n",
    "print('Weighted Precision: {:.2f}'.format(precision_score(y_test, y_pred, average='weighted')))\n",
    "print('Weighted Recall: {:.2f}'.format(recall_score(y_test, y_pred, average='weighted')))\n",
    "print('Weighted F1-score: {:.2f}'.format(f1_score(y_test, y_pred, average='weighted')))"
   ]
  },
  {
   "cell_type": "code",
   "execution_count": null,
   "id": "k32ycH7YaKdB",
   "metadata": {
    "executionInfo": {
     "elapsed": 376,
     "status": "ok",
     "timestamp": 1733395264331,
     "user": {
      "displayName": "Hoàng Anh Nguyễn",
      "userId": "15960535841704227682"
     },
     "user_tz": -420
    },
    "id": "k32ycH7YaKdB"
   },
   "outputs": [],
   "source": []
  },
  {
   "cell_type": "code",
   "execution_count": null,
   "id": "32119f49",
   "metadata": {},
   "outputs": [],
   "source": []
  }
 ],
 "metadata": {
  "colab": {
   "provenance": []
  },
  "kernelspec": {
   "display_name": "telekafka",
   "language": "python",
   "name": "python3"
  },
  "language_info": {
   "codemirror_mode": {
    "name": "ipython",
    "version": 3
   },
   "file_extension": ".py",
   "mimetype": "text/x-python",
   "name": "python",
   "nbconvert_exporter": "python",
   "pygments_lexer": "ipython3",
   "version": "3.11.2"
  }
 },
 "nbformat": 4,
 "nbformat_minor": 5
}
