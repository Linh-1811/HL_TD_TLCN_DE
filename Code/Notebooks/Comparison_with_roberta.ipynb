{
 "cells": [
  {
   "cell_type": "markdown",
   "metadata": {
    "id": "8OhO4xlwqExT"
   },
   "source": [
    "### Comparing model with BERT model (RoBERTa)\n",
    "\n",
    "\n",
    "\n"
   ]
  },
  {
   "cell_type": "code",
   "execution_count": 7,
   "metadata": {
    "colab": {
     "base_uri": "https://localhost:8080/"
    },
    "executionInfo": {
     "elapsed": 1578,
     "status": "ok",
     "timestamp": 1733369653978,
     "user": {
      "displayName": "Hoàng Anh Nguyễn",
      "userId": "15960535841704227682"
     },
     "user_tz": -420
    },
    "id": "a-GlywkSFegL",
    "outputId": "3ee4910b-13b2-49b4-cb6e-88ce172edf59"
   },
   "outputs": [
    {
     "name": "stdout",
     "output_type": "stream",
     "text": [
      "Requirement already satisfied: transformers in e:\\2024_2025_hk1\\tlcn\\telekafka\\lib\\site-packages (4.47.0)\n",
      "Requirement already satisfied: filelock in e:\\2024_2025_hk1\\tlcn\\telekafka\\lib\\site-packages (from transformers) (3.13.1)\n",
      "Requirement already satisfied: huggingface-hub<1.0,>=0.24.0 in e:\\2024_2025_hk1\\tlcn\\telekafka\\lib\\site-packages (from transformers) (0.26.3)\n",
      "Requirement already satisfied: numpy>=1.17 in e:\\2024_2025_hk1\\tlcn\\telekafka\\lib\\site-packages (from transformers) (1.26.4)\n",
      "Requirement already satisfied: packaging>=20.0 in e:\\2024_2025_hk1\\tlcn\\telekafka\\lib\\site-packages (from transformers) (24.2)\n",
      "Requirement already satisfied: pyyaml>=5.1 in e:\\2024_2025_hk1\\tlcn\\telekafka\\lib\\site-packages (from transformers) (6.0.2)\n",
      "Requirement already satisfied: regex!=2019.12.17 in e:\\2024_2025_hk1\\tlcn\\telekafka\\lib\\site-packages (from transformers) (2024.11.6)\n",
      "Requirement already satisfied: requests in e:\\2024_2025_hk1\\tlcn\\telekafka\\lib\\site-packages (from transformers) (2.32.3)\n",
      "Requirement already satisfied: tokenizers<0.22,>=0.21 in e:\\2024_2025_hk1\\tlcn\\telekafka\\lib\\site-packages (from transformers) (0.21.0)\n",
      "Requirement already satisfied: safetensors>=0.4.1 in e:\\2024_2025_hk1\\tlcn\\telekafka\\lib\\site-packages (from transformers) (0.4.5)\n",
      "Requirement already satisfied: tqdm>=4.27 in e:\\2024_2025_hk1\\tlcn\\telekafka\\lib\\site-packages (from transformers) (4.67.1)\n",
      "Requirement already satisfied: fsspec>=2023.5.0 in e:\\2024_2025_hk1\\tlcn\\telekafka\\lib\\site-packages (from huggingface-hub<1.0,>=0.24.0->transformers) (2024.2.0)\n",
      "Requirement already satisfied: typing-extensions>=3.7.4.3 in e:\\2024_2025_hk1\\tlcn\\telekafka\\lib\\site-packages (from huggingface-hub<1.0,>=0.24.0->transformers) (4.12.2)\n",
      "Requirement already satisfied: colorama in e:\\2024_2025_hk1\\tlcn\\telekafka\\lib\\site-packages (from tqdm>=4.27->transformers) (0.4.6)\n",
      "Requirement already satisfied: charset-normalizer<4,>=2 in e:\\2024_2025_hk1\\tlcn\\telekafka\\lib\\site-packages (from requests->transformers) (3.4.0)\n",
      "Requirement already satisfied: idna<4,>=2.5 in e:\\2024_2025_hk1\\tlcn\\telekafka\\lib\\site-packages (from requests->transformers) (3.10)\n",
      "Requirement already satisfied: urllib3<3,>=1.21.1 in e:\\2024_2025_hk1\\tlcn\\telekafka\\lib\\site-packages (from requests->transformers) (2.2.3)\n",
      "Requirement already satisfied: certifi>=2017.4.17 in e:\\2024_2025_hk1\\tlcn\\telekafka\\lib\\site-packages (from requests->transformers) (2024.8.30)\n",
      "Note: you may need to restart the kernel to use updated packages.\n"
     ]
    },
    {
     "name": "stderr",
     "output_type": "stream",
     "text": [
      "\n",
      "[notice] A new release of pip available: 22.3.1 -> 24.3.1\n",
      "[notice] To update, run: python.exe -m pip install --upgrade pip\n"
     ]
    }
   ],
   "source": [
    "pip install transformers\n"
   ]
  },
  {
   "cell_type": "code",
   "execution_count": 8,
   "metadata": {
    "_uuid": "e7b5f5ab6f8f300c8900321a91b9340376c986f2",
    "colab": {
     "base_uri": "https://localhost:8080/"
    },
    "id": "979OUro5Eac3",
    "outputId": "97ef3e84-c052-4808-8cb2-cc64c4257a32",
    "trusted": true
   },
   "outputs": [],
   "source": [
    "# Import các thư viện cần thiết\n",
    "import pandas as pd\n",
    "import numpy as np\n",
    "from sklearn.model_selection import train_test_split\n",
    "import torch\n",
    "import seaborn as sns\n",
    "import transformers\n",
    "import json\n",
    "from tqdm import tqdm\n",
    "from torch.utils.data import Dataset, DataLoader\n",
    "from transformers import RobertaModel, RobertaTokenizer\n",
    "import logging\n",
    "logging.basicConfig(level=logging.ERROR)"
   ]
  },
  {
   "cell_type": "code",
   "execution_count": 9,
   "metadata": {
    "id": "sb1Q5N6LGK7z"
   },
   "outputs": [],
   "source": [
    "# Kiểm tra nếu GPU khả dụng, nếu không thì dùng CPU\n",
    "from torch import cuda\n",
    "device = 'cuda' if cuda.is_available() else 'cpu'"
   ]
  },
  {
   "cell_type": "code",
   "execution_count": null,
   "metadata": {
    "colab": {
     "base_uri": "https://localhost:8080/"
    },
    "executionInfo": {
     "elapsed": 20718,
     "status": "ok",
     "timestamp": 1733369585960,
     "user": {
      "displayName": "Hoàng Anh Nguyễn",
      "userId": "15960535841704227682"
     },
     "user_tz": -420
    },
    "id": "pcpmnjOK0d4L",
    "outputId": "c732e4a0-4086-4a3c-e076-a941b2b39329"
   },
   "outputs": [],
   "source": [
    "# Mount Google Drive để truy cập dữ liệu\n",
    "from google.colab import drive\n",
    "drive.mount('/content/drive')"
   ]
  },
  {
   "cell_type": "code",
   "execution_count": null,
   "metadata": {
    "colab": {
     "base_uri": "https://localhost:8080/"
    },
    "executionInfo": {
     "elapsed": 298,
     "status": "ok",
     "timestamp": 1733369605122,
     "user": {
      "displayName": "Hoàng Anh Nguyễn",
      "userId": "15960535841704227682"
     },
     "user_tz": -420
    },
    "id": "yYVs_6EE0qKq",
    "outputId": "9f3c72f2-aa12-4feb-a690-602eb56f52bf"
   },
   "outputs": [
    {
     "name": "stdout",
     "output_type": "stream",
     "text": [
      "/content/drive/MyDrive/Code/Notebooks\n"
     ]
    }
   ],
   "source": [
    "%cd /content/drive/MyDrive/Code/Notebooks"
   ]
  },
  {
   "cell_type": "code",
   "execution_count": null,
   "metadata": {
    "_cell_guid": "79c7e3d0-c299-4dcb-8224-4455121ee9b0",
    "_uuid": "d629ff2d2480ee46fbb7e2d37f6b5fab8052498a",
    "colab": {
     "base_uri": "https://localhost:8080/",
     "height": 193
    },
    "executionInfo": {
     "elapsed": 492,
     "status": "error",
     "timestamp": 1733369606605,
     "user": {
      "displayName": "Hoàng Anh Nguyễn",
      "userId": "15960535841704227682"
     },
     "user_tz": -420
    },
    "id": "J3FzcAlgEac8",
    "outputId": "a8087d5a-f584-451c-bff1-cb5e0ed2c9cf",
    "trusted": true
   },
   "outputs": [],
   "source": [
    "# Đọc tập dữ liệu huấn luyện từ Google Drive \n",
    "train = pd.read_csv(\"/content/drive/MyDrive/final_train_df.csv\", encoding = \"ISO-8859-1\")\n",
    "train = train.drop(train.columns[0], axis=1) # Bỏ cột không cần thiết\n",
    "train.head()# Hiển thị vài dòng đầu tiên của tập dữ liệu"
   ]
  },
  {
   "cell_type": "code",
   "execution_count": null,
   "metadata": {
    "_uuid": "01da38cc4626a85b73fbb526d9a8d128d1fd9338",
    "id": "baSmeDdIEadM",
    "trusted": true
   },
   "outputs": [],
   "source": [
    "# Tạo một DataFrame mới chỉ chứa cột văn bản và nhãn\n",
    "new_df = train[['text', 'airline_sentiment']].copy()\n",
    "# Chuyển nhãn từ dạng chuỗi thành số (positive = 0, neutral = 1, negative = 2)\n",
    "new_df['airline_sentiment'].replace(['positive', 'neutral', 'negative'], [0, 1, 2], inplace=True)"
   ]
  },
  {
   "cell_type": "code",
   "execution_count": null,
   "metadata": {
    "id": "nvXxpfNCGER2"
   },
   "outputs": [],
   "source": [
    "# Định nghĩa các tham số cho mô hình\n",
    "MAX_LEN = 256  # Độ dài tối đa của chuỗi sau tokenization\n",
    "TRAIN_BATCH_SIZE = 8  # Kích thước batch trong tập train\n",
    "VALID_BATCH_SIZE = 4  # Kích thước batch trong tập validation\n",
    "LEARNING_RATE = 1e-05  # Tốc độ học\n",
    "# Khởi tạo tokenizer từ mô hình RoBERTa\n",
    "tokenizer = RobertaTokenizer.from_pretrained('roberta-base', truncation=True, do_lower_case=True)"
   ]
  },
  {
   "cell_type": "code",
   "execution_count": null,
   "metadata": {
    "id": "3vWRDemOGxJD"
   },
   "outputs": [],
   "source": [
    "# Định nghĩa class xử lý dữ liệu\n",
    "class SentimentData(Dataset):\n",
    "    def __init__(self, dataframe, tokenizer, max_len):\n",
    "        self.tokenizer = tokenizer  # Tokenizer để xử lý văn bản\n",
    "        self.data = dataframe  # Dữ liệu\n",
    "        self.text = dataframe.text  # Cột chứa văn bản\n",
    "        self.targets = self.data.airline_sentiment  # Nhãn mục tiêu\n",
    "        self.max_len = max_len  # Độ dài tối đa\n",
    "\n",
    "    def __len__(self):\n",
    "        return len(self.text)   # Trả về số lượng mẫu\n",
    "\n",
    "    def __getitem__(self, index):\n",
    "        # Lấy văn bản tại một chỉ số cụ thể và làm sạch\n",
    "        text = str(self.text[index])\n",
    "        text = \" \".join(text.split())\n",
    "\n",
    "        # Áp dụng tokenizer để chuyển văn bản thành input IDs và attention mask\n",
    "        inputs = self.tokenizer.encode_plus(\n",
    "            text,\n",
    "            None,\n",
    "            add_special_tokens=True,\n",
    "            max_length=self.max_len,\n",
    "            pad_to_max_length=True,\n",
    "            return_token_type_ids=True\n",
    "        )\n",
    "        ids = inputs['input_ids']  # Input IDs\n",
    "        mask = inputs['attention_mask']  # Attention mask\n",
    "        token_type_ids = inputs[\"token_type_ids\"]  # Token type IDs\n",
    "\n",
    "        # Trả về dictionary chứa các input và nhãn mục tiêu\n",
    "        return {\n",
    "            'ids': torch.tensor(ids, dtype=torch.long),\n",
    "            'mask': torch.tensor(mask, dtype=torch.long),\n",
    "            'token_type_ids': torch.tensor(token_type_ids, dtype=torch.long),\n",
    "            'targets': torch.tensor(self.targets[index], dtype=torch.float)\n",
    "        }"
   ]
  },
  {
   "cell_type": "code",
   "execution_count": null,
   "metadata": {
    "id": "7Gpe9D1QHoCd"
   },
   "outputs": [],
   "source": [
    "# Chia dữ liệu thành tập train và test (80% train, 20% test)\n",
    "train_size = 0.8\n",
    "train_data = new_df.sample(frac=train_size, random_state=733)  # Lấy ngẫu nhiên tập train\n",
    "test_data = new_df.drop(train_data.index).reset_index(drop=True)  # Tập test là phần còn lại\n",
    "train_data = train_data.reset_index(drop=True)\n",
    "\n",
    "# Khởi tạo tập dữ liệu train và test\n",
    "training_set = SentimentData(train_data, tokenizer, MAX_LEN)\n",
    "testing_set = SentimentData(test_data, tokenizer, MAX_LEN)"
   ]
  },
  {
   "cell_type": "code",
   "execution_count": null,
   "metadata": {
    "_uuid": "9fc198d13d7f33dc70588c3f22bc7b7c4f4ebb45",
    "id": "c1tInLk2Eadt",
    "trusted": true
   },
   "outputs": [],
   "source": [
    "# Tạo DataLoader để lặp qua dữ liệu theo batch\n",
    "training_loader = DataLoader(training_set, batch_size = 8)\n",
    "testing_loader = DataLoader(testing_set, batch_size = 4)"
   ]
  },
  {
   "cell_type": "code",
   "execution_count": null,
   "metadata": {
    "_uuid": "cb8f194ee79d76356be0002b0e18f947e1412d66",
    "id": "HMqQTafXEaei",
    "trusted": true
   },
   "outputs": [],
   "source": [
    "# Định nghĩa class mô hình RoBERTa\n",
    "class RobertaClass(torch.nn.Module):\n",
    "    def __init__(self):\n",
    "        super(RobertaClass, self).__init__()\n",
    "        self.l1 = RobertaModel.from_pretrained(\"roberta-base\")  # Sử dụng mô hình RoBERTa gốc\n",
    "        self.pre_classifier = torch.nn.Linear(768, 768)  # Lớp dense trước phân loại\n",
    "        self.dropout = torch.nn.Dropout(0.3)  # Dropout để giảm overfitting\n",
    "        self.classifier = torch.nn.Linear(768, 5)  # Lớp đầu ra (5 nhãn)\n",
    "\n",
    "    def forward(self, input_ids, attention_mask, token_type_ids):\n",
    "        # Trích xuất các đặc trưng từ RoBERTa\n",
    "        output_1 = self.l1(input_ids=input_ids, attention_mask=attention_mask, token_type_ids=token_type_ids)\n",
    "        hidden_state = output_1[0]  # Lấy hidden state\n",
    "        pooler = hidden_state[:, 0]  # Lấy embedding của token [CLS]\n",
    "        pooler = self.pre_classifier(pooler)  # Qua lớp dense\n",
    "        pooler = torch.nn.ReLU()(pooler)  # Áp dụng ReLU\n",
    "        pooler = self.dropout(pooler)  # Dropout\n",
    "        output = self.classifier(pooler)  # Lớp phân loại cuối cùng\n",
    "        return output"
   ]
  },
  {
   "cell_type": "code",
   "execution_count": null,
   "metadata": {
    "id": "yPhA2V3iIpzN"
   },
   "outputs": [],
   "source": [
    "# Hàm tính độ chính xác\n",
    "def get_accuracy(preds, targets):\n",
    "    n_correct = (preds==targets).sum().item()   # Số lượng dự đoán đúng\n",
    "    return n_correct"
   ]
  },
  {
   "cell_type": "code",
   "execution_count": null,
   "metadata": {
    "id": "mhqvtY2SIup7"
   },
   "outputs": [],
   "source": [
    "# Hàm huấn luyện mô hình\n",
    "def train(epoch):\n",
    "    tr_loss = 0  # Tổng loss\n",
    "    n_correct = 0  # Số lượng dự đoán đúng\n",
    "    nb_tr_steps = 0  # Số bước lặp\n",
    "    nb_tr_examples = 0  # Số mẫu đã huấn luyện\n",
    "    model.train()  # Chuyển mô hình sang chế độ train\n",
    "    for _, data in tqdm(enumerate(training_loader, 0)):  # Lặp qua tập dữ liệu train\n",
    "        ids = data['ids'].to(device, dtype=torch.long)\n",
    "        mask = data['mask'].to(device, dtype=torch.long)\n",
    "        token_type_ids = data['token_type_ids'].to(device, dtype=torch.long)\n",
    "        targets = data['targets'].to(device, dtype=torch.long)\n",
    "\n",
    "        outputs = model(ids, mask, token_type_ids)  # Lấy dự đoán từ mô hình\n",
    "        loss = loss_function(outputs, targets)  # Tính loss\n",
    "        tr_loss += loss.item()  # Cộng dồn loss\n",
    "        big_val, big_idx = torch.max(outputs.data, dim=1)  # Lấy nhãn dự đoán\n",
    "        n_correct += get_accuracy(big_idx, targets)  # Cộng số dự đoán đúng\n",
    "\n",
    "        nb_tr_steps += 1\n",
    "        nb_tr_examples += targets.size(0)\n",
    "\n",
    "        if _ % 5000 == 0:  # Cập nhật log sau mỗi 5000 batch\n",
    "            loss_step = tr_loss / nb_tr_steps\n",
    "            accu_step = (n_correct * 100) / nb_tr_examples\n",
    "            print(f\"Training Loss per 5000 steps: {loss_step}\")\n",
    "            print(f\"Training Accuracy per 5000 steps: {accu_step}\")\n",
    "\n",
    "        optimizer.zero_grad()  # Reset gradient\n",
    "        loss.backward()  # Lan truyền ngược\n",
    "        optimizer.step()  # Cập nhật trọng số\n",
    "\n",
    "    print(f'The Total Accuracy for Epoch {epoch}: {(n_correct * 100) / nb_tr_examples}')\n",
    "    epoch_loss = tr_loss / nb_tr_steps\n",
    "    epoch_accu = (n_correct * 100) / nb_tr_examples\n",
    "    print(f\"Training Loss Epoch: {epoch_loss}\")\n",
    "    print(f\"Training Accuracy Epoch: {epoch_accu}\")\n",
    "    return"
   ]
  },
  {
   "cell_type": "code",
   "execution_count": null,
   "metadata": {
    "id": "XYZ7YuJ5InOS"
   },
   "outputs": [],
   "source": [
    "# Khởi tạo mô hình RoBERTa\n",
    "model = RobertaClass().to(device)\n",
    "\n",
    "# Tạo hàm loss và optimizer\n",
    "loss_function = torch.nn.CrossEntropyLoss()\n",
    "optimizer = torch.optim.Adam(params=model.parameters(), lr=LEARNING_RATE"
   ]
  },
  {
   "cell_type": "code",
   "execution_count": null,
   "metadata": {
    "colab": {
     "base_uri": "https://localhost:8080/"
    },
    "id": "Afn7xaunJHnI",
    "outputId": "94ba623e-ad18-4940-e4e8-22966f0b7994"
   },
   "outputs": [
    {
     "name": "stderr",
     "output_type": "stream",
     "text": [
      "\r0it [00:00, ?it/s]"
     ]
    },
    {
     "name": "stdout",
     "output_type": "stream",
     "text": [
      "Training Loss per 5000 steps: 1.6126948595046997\n",
      "Training Accuracy per 5000 steps: 0.0\n"
     ]
    },
    {
     "name": "stderr",
     "output_type": "stream",
     "text": [
      "1548it [18:13,  1.42it/s]"
     ]
    },
    {
     "name": "stdout",
     "output_type": "stream",
     "text": [
      "The Total Accuracy for Epoch 0: 81.40248828566813\n",
      "Training Loss Epoch: 0.5012302471418656\n",
      "Training Accuracy Epoch: 81.40248828566813\n"
     ]
    },
    {
     "name": "stderr",
     "output_type": "stream",
     "text": [
      "\n"
     ]
    }
   ],
   "source": [
    "# Huấn luyện mô hình\n",
    "for epoch in range(0,1):\n",
    "    train(epoch)"
   ]
  },
  {
   "cell_type": "code",
   "execution_count": null,
   "metadata": {
    "id": "bFiNcy16JLwt"
   },
   "outputs": [],
   "source": [
    "# Hàm đánh giá mô hình trên tập test\n",
    "def valid(model, testing_loader):\n",
    "    model.eval()  # Chuyển mô hình sang chế độ đánh giá\n",
    "    n_correct = 0\n",
    "    n_wrong = 0\n",
    "    total = 0\n",
    "    tr_loss = 0\n",
    "    nb_tr_steps = 0\n",
    "    nb_tr_examples = 0\n",
    "    with torch.no_grad():  # Không tính gradient\n",
    "        for _, data in tqdm(enumerate(testing_loader, 0)):  # Lặp qua tập test\n",
    "            ids = data['ids'].to(device, dtype=torch.long)\n",
    "            mask = data['mask'].to(device, dtype=torch.long)\n",
    "            token_type_ids = data['token_type_ids'].to(device, dtype=torch.long)\n",
    "            targets = data['targets'].to(device, dtype=torch.long)\n",
    "            outputs = model(ids, mask, token_type_ids).squeeze()\n",
    "            loss = loss_function(outputs, targets)  # Tính loss\n",
    "            tr_loss += loss.item()\n",
    "            big_val, big_idx = torch.max(outputs.data, dim=1)  # Lấy nhãn dự đoán\n",
    "            n_correct += get_accuracy(big_idx, targets)  # Cộng số dự đoán đúng\n",
    "\n",
    "            nb_tr_steps += 1\n",
    "            nb_tr_examples += targets.size(0)\n",
    "\n",
    "            if _ % 5000 == 0:  # Log mỗi 5000 batch\n",
    "                loss_step = tr_loss / nb_tr_steps\n",
    "                accu_step = (n_correct * 100) / nb_tr_examples\n",
    "                print(f\"Validation Loss per 100 steps: {loss_step}\")\n",
    "                print(f\"Validation Accuracy per 100 steps: {accu_step}\")\n",
    "    epoch_loss = tr_loss / nb_tr_steps\n",
    "    epoch_accu = (n_correct * 100) / nb_tr_examples\n",
    "    print(f\"Validation Loss Epoch: {epoch_loss}\")\n",
    "    print(f\"Validation Accuracy Epoch: {epoch_accu}\")\n",
    "\n",
    "    return epoch_accu"
   ]
  },
  {
   "cell_type": "code",
   "execution_count": null,
   "metadata": {
    "colab": {
     "base_uri": "https://localhost:8080/"
    },
    "id": "UcUylInzKdV-",
    "outputId": "e0801ea5-9b2e-4ae9-831d-1806f2906d59"
   },
   "outputs": [
    {
     "name": "stderr",
     "output_type": "stream",
     "text": [
      "1it [00:00,  8.57it/s]"
     ]
    },
    {
     "name": "stdout",
     "output_type": "stream",
     "text": [
      "Validation Loss per 100 steps: 1.1415438652038574\n",
      "Validation Accuracy per 100 steps: 50.0\n"
     ]
    },
    {
     "name": "stderr",
     "output_type": "stream",
     "text": [
      "774it [01:38,  7.89it/s]"
     ]
    },
    {
     "name": "stdout",
     "output_type": "stream",
     "text": [
      "Validation Loss Epoch: 0.4418863855742727\n",
      "Validation Accuracy Epoch: 83.9043309631545\n",
      "Accuracy on test data = 83.90%\n"
     ]
    },
    {
     "name": "stderr",
     "output_type": "stream",
     "text": [
      "\n"
     ]
    }
   ],
   "source": [
    "# Đánh giá mô hình và in độ chính xác\n",
    "acc = valid(model, testing_loader)\n",
    "print(f'Accuracy on test data = {acc}%')"
   ]
  },
  {
   "cell_type": "markdown",
   "metadata": {
    "id": "xzVWKZnaODSp"
   },
   "source": [
    "Training RoBERTa model with 1 epoch (due to GPU constraint) on same airline data we found that training accuracy was 81.42% and validation accuracy is 83.90%."
   ]
  }
 ],
 "metadata": {
  "accelerator": "TPU",
  "colab": {
   "gpuType": "V28",
   "provenance": []
  },
  "kernelspec": {
   "display_name": "telekafka",
   "language": "python",
   "name": "python3"
  },
  "language_info": {
   "codemirror_mode": {
    "name": "ipython",
    "version": 3
   },
   "file_extension": ".py",
   "mimetype": "text/x-python",
   "name": "python",
   "nbconvert_exporter": "python",
   "pygments_lexer": "ipython3",
   "version": "3.11.2"
  }
 },
 "nbformat": 4,
 "nbformat_minor": 0
}
