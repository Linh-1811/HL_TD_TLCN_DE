{
 "cells": [
  {
   "cell_type": "code",
   "execution_count": 6,
   "id": "OLjvVENf_uDW",
   "metadata": {
    "colab": {
     "base_uri": "https://localhost:8080/"
    },
    "executionInfo": {
     "elapsed": 1369,
     "status": "ok",
     "timestamp": 1733395525080,
     "user": {
      "displayName": "Hoàng Anh Nguyễn",
      "userId": "15960535841704227682"
     },
     "user_tz": -420
    },
    "id": "OLjvVENf_uDW",
    "outputId": "14d90ec8-80c0-40e0-815c-541106527480"
   },
   "outputs": [
    {
     "name": "stderr",
     "output_type": "stream",
     "text": [
      "[nltk_data] Downloading package wordnet to\n",
      "[nltk_data]     C:\\Users\\Admin\\AppData\\Roaming\\nltk_data...\n",
      "[nltk_data]   Package wordnet is already up-to-date!\n",
      "[nltk_data] Downloading package punkt_tab to\n",
      "[nltk_data]     C:\\Users\\Admin\\AppData\\Roaming\\nltk_data...\n",
      "[nltk_data]   Package punkt_tab is already up-to-date!\n",
      "[nltk_data] Downloading package punkt to\n",
      "[nltk_data]     C:\\Users\\Admin\\AppData\\Roaming\\nltk_data...\n",
      "[nltk_data]   Package punkt is already up-to-date!\n",
      "[nltk_data] Downloading package omw-1.4 to\n",
      "[nltk_data]     C:\\Users\\Admin\\AppData\\Roaming\\nltk_data...\n",
      "[nltk_data]   Package omw-1.4 is already up-to-date!\n"
     ]
    }
   ],
   "source": [
    "import pandas as pd\n",
    "import matplotlib.pyplot as plt\n",
    "import re\n",
    "from bs4 import BeautifulSoup\n",
    "import string\n",
    "import numpy as np\n",
    "import os\n",
    "import glob\n",
    "\n",
    "import nltk\n",
    "nltk.download('wordnet')\n",
    "nltk.download('punkt_tab')\n",
    "nltk.download('punkt')\n",
    "nltk.download('omw-1.4')\n",
    "from nltk.stem import WordNetLemmatizer\n",
    "\n",
    "import wordcloud\n",
    "from wordcloud import WordCloud, STOPWORDS\n",
    "from textblob import Word\n",
    "from collections import Counter\n",
    "\n",
    "from tensorflow.keras.models import Sequential\n",
    "from tensorflow.keras.preprocessing.text import Tokenizer\n",
    "from tensorflow.keras.preprocessing.sequence import pad_sequences\n",
    "from tensorflow.keras.layers import Dense, Embedding, LSTM, SpatialDropout1D\n",
    "from tensorflow.keras.models import load_model\n",
    "\n",
    "from sklearn.metrics import classification_report, confusion_matrix, accuracy_score\n",
    "from sklearn.preprocessing import LabelEncoder\n",
    "from sklearn.model_selection import train_test_split\n"
   ]
  },
  {
   "cell_type": "code",
   "execution_count": 7,
   "id": "HP7tI0oi_uDg",
   "metadata": {
    "colab": {
     "base_uri": "https://localhost:8080/",
     "height": 206
    },
    "executionInfo": {
     "elapsed": 8,
     "status": "ok",
     "timestamp": 1733395527926,
     "user": {
      "displayName": "Hoàng Anh Nguyễn",
      "userId": "15960535841704227682"
     },
     "user_tz": -420
    },
    "id": "HP7tI0oi_uDg",
    "outputId": "9f2d2092-d276-436d-9ed5-0211e4e8f84c"
   },
   "outputs": [
    {
     "data": {
      "text/html": [
       "<div>\n",
       "<style scoped>\n",
       "    .dataframe tbody tr th:only-of-type {\n",
       "        vertical-align: middle;\n",
       "    }\n",
       "\n",
       "    .dataframe tbody tr th {\n",
       "        vertical-align: top;\n",
       "    }\n",
       "\n",
       "    .dataframe thead th {\n",
       "        text-align: right;\n",
       "    }\n",
       "</style>\n",
       "<table border=\"1\" class=\"dataframe\">\n",
       "  <thead>\n",
       "    <tr style=\"text-align: right;\">\n",
       "      <th></th>\n",
       "      <th>tweet_id</th>\n",
       "      <th>username</th>\n",
       "      <th>text</th>\n",
       "      <th>airline_name</th>\n",
       "      <th>tweet_location</th>\n",
       "      <th>airline_sentiment</th>\n",
       "    </tr>\n",
       "  </thead>\n",
       "  <tbody>\n",
       "    <tr>\n",
       "      <th>0</th>\n",
       "      <td>5.801223e+08</td>\n",
       "      <td>WhaleAlamu</td>\n",
       "      <td>pay my refund. wakanow claimed they are expect...</td>\n",
       "      <td>British_Airways</td>\n",
       "      <td>NaN</td>\n",
       "      <td>Negative</td>\n",
       "    </tr>\n",
       "    <tr>\n",
       "      <th>1</th>\n",
       "      <td>5.677581e+17</td>\n",
       "      <td>roxydigital</td>\n",
       "      <td>@JetBlue @JayVig YES! Great real-time example....</td>\n",
       "      <td>Delta</td>\n",
       "      <td>Charlotte, NC</td>\n",
       "      <td>Positive</td>\n",
       "    </tr>\n",
       "    <tr>\n",
       "      <th>2</th>\n",
       "      <td>5.692946e+17</td>\n",
       "      <td>jshieber</td>\n",
       "      <td>@USAirways hell is terrible gate agents. And a...</td>\n",
       "      <td>US Airways</td>\n",
       "      <td>New York</td>\n",
       "      <td>Negative</td>\n",
       "    </tr>\n",
       "    <tr>\n",
       "      <th>3</th>\n",
       "      <td>5.697036e+17</td>\n",
       "      <td>JesseSheriff</td>\n",
       "      <td>@AmericanAir is the new @SpiritAirlines, and b...</td>\n",
       "      <td>American</td>\n",
       "      <td>West Palm Beach</td>\n",
       "      <td>Negative</td>\n",
       "    </tr>\n",
       "    <tr>\n",
       "      <th>4</th>\n",
       "      <td>2.188353e+08</td>\n",
       "      <td>Cmdr_Pants</td>\n",
       "      <td>i was, the just called, she was very helpful.</td>\n",
       "      <td>SingaporeAir</td>\n",
       "      <td>Brisbane, Australia</td>\n",
       "      <td>Neutral</td>\n",
       "    </tr>\n",
       "  </tbody>\n",
       "</table>\n",
       "</div>"
      ],
      "text/plain": [
       "       tweet_id      username  \\\n",
       "0  5.801223e+08    WhaleAlamu   \n",
       "1  5.677581e+17   roxydigital   \n",
       "2  5.692946e+17      jshieber   \n",
       "3  5.697036e+17  JesseSheriff   \n",
       "4  2.188353e+08    Cmdr_Pants   \n",
       "\n",
       "                                                text     airline_name  \\\n",
       "0  pay my refund. wakanow claimed they are expect...  British_Airways   \n",
       "1  @JetBlue @JayVig YES! Great real-time example....            Delta   \n",
       "2  @USAirways hell is terrible gate agents. And a...       US Airways   \n",
       "3  @AmericanAir is the new @SpiritAirlines, and b...         American   \n",
       "4      i was, the just called, she was very helpful.     SingaporeAir   \n",
       "\n",
       "        tweet_location airline_sentiment  \n",
       "0                  NaN          Negative  \n",
       "1        Charlotte, NC          Positive  \n",
       "2            New York           Negative  \n",
       "3      West Palm Beach          Negative  \n",
       "4  Brisbane, Australia           Neutral  "
      ]
     },
     "execution_count": 7,
     "metadata": {},
     "output_type": "execute_result"
    }
   ],
   "source": [
    "train_df = pd.read_csv(\"../Data/train_data.csv\", encoding = \"ISO-8859-1\")\n",
    "train_df.head()"
   ]
  },
  {
   "cell_type": "code",
   "execution_count": 8,
   "id": "R2mgP1pD_uDi",
   "metadata": {
    "executionInfo": {
     "elapsed": 448,
     "status": "ok",
     "timestamp": 1733395528369,
     "user": {
      "displayName": "Hoàng Anh Nguyễn",
      "userId": "15960535841704227682"
     },
     "user_tz": -420
    },
    "id": "R2mgP1pD_uDi"
   },
   "outputs": [],
   "source": [
    "stopwords_lstm = pd.read_csv('../Train_LSTM/stopwords_lstm.csv')\n",
    "\n",
    "def preprocess(text):\n",
    "\n",
    "    stopwords = set(STOPWORDS)\n",
    "\n",
    "    # Appending new airline related stop-words\n",
    "    stopwords.update([str(i).lower() for i in stopwords_lstm.name])\n",
    "\n",
    "    # Filter for mentions\n",
    "    mentions_filter = re.compile(r'(?<=\\@)(\\w+)')\n",
    "\n",
    "    # Filter for hash-tags\n",
    "    hashtags_filter = re.compile(r'(?<=\\#)(\\w+)')\n",
    "\n",
    "    # Filter for flights numbers\n",
    "    flight_numbers = re.compile(r'(flt\\d*)')\n",
    "\n",
    "    # Finding all mentions\n",
    "    all_mentions = mentions_filter.findall(text.lower())\n",
    "\n",
    "    # Finding all hash-tags\n",
    "    all_hashtag = hashtags_filter.findall(text.lower())\n",
    "\n",
    "    # Finding all hash-tags\n",
    "    all_flights = flight_numbers.findall(text.lower())\n",
    "\n",
    "    word_lemmatize = WordNetLemmatizer()\n",
    "\n",
    "    # Lemmatizing\n",
    "    def lemm_tokens(tokens, lemmatize):\n",
    "        lemmatized = []\n",
    "        for item in tokens:\n",
    "            lemmatized.append(lemmatize.lemmatize(item,'v'))\n",
    "        return lemmatized\n",
    "\n",
    "    # De-emojify tweets to text\n",
    "    def deEmojify(inputString):\n",
    "        return inputString.encode('ascii', 'ignore').decode('ascii')\n",
    "\n",
    "    text = deEmojify(text)\n",
    "    soup = BeautifulSoup(text)\n",
    "    text = soup.get_text()\n",
    "\n",
    "    # Removing punctuation\n",
    "    punc_text = [x.lower() for x in text if x not in string.punctuation]\n",
    "    text = \"\".join(punc_text)\n",
    "\n",
    "    # Tokenize words\n",
    "    word_tokens = nltk.word_tokenize(text)\n",
    "\n",
    "    # Keeping the words with length between 2 and 15\n",
    "    filtered_tokens = [x for x in word_tokens if len(x)>2 and len(x)<15]\n",
    "\n",
    "    # Filter tokens\n",
    "    tokens = lemm_tokens(filtered_tokens, word_lemmatize)\n",
    "    all_tokens = [i for i in tokens if (i not in stopwords) and (i not in all_mentions)\n",
    "                  and (i not in all_hashtag) and (i not in all_flights) and (not i.isdigit())]\n",
    "\n",
    "    return all_tokens"
   ]
  },
  {
   "cell_type": "code",
   "execution_count": 9,
   "id": "WOEKyLHV_uDj",
   "metadata": {
    "executionInfo": {
     "elapsed": 1,
     "status": "ok",
     "timestamp": 1733395528369,
     "user": {
      "displayName": "Hoàng Anh Nguyễn",
      "userId": "15960535841704227682"
     },
     "user_tz": -420
    },
    "id": "WOEKyLHV_uDj"
   },
   "outputs": [],
   "source": [
    "train_df = train_df.dropna(subset=['text'])"
   ]
  },
  {
   "cell_type": "code",
   "execution_count": 10,
   "id": "MWNNGD3Q_uDl",
   "metadata": {
    "colab": {
     "base_uri": "https://localhost:8080/"
    },
    "executionInfo": {
     "elapsed": 361358,
     "status": "ok",
     "timestamp": 1733395889726,
     "user": {
      "displayName": "Hoàng Anh Nguyễn",
      "userId": "15960535841704227682"
     },
     "user_tz": -420
    },
    "id": "MWNNGD3Q_uDl",
    "outputId": "6d46e85c-87ce-4f52-fdba-92c81f6ae6e5"
   },
   "outputs": [
    {
     "name": "stderr",
     "output_type": "stream",
     "text": [
      "C:\\Users\\Admin\\AppData\\Local\\Temp\\ipykernel_14096\\4259542227.py:42: MarkupResemblesLocatorWarning: The input looks more like a filename than markup. You may want to open this file and pass the filehandle into Beautiful Soup.\n",
      "  soup = BeautifulSoup(text)\n"
     ]
    }
   ],
   "source": [
    "train_df['text_tokenized']=train_df['text'].astype(\"string\").map(preprocess)"
   ]
  },
  {
   "cell_type": "code",
   "execution_count": 11,
   "id": "Hb2LJy16_uDm",
   "metadata": {
    "executionInfo": {
     "elapsed": 6,
     "status": "ok",
     "timestamp": 1733395889726,
     "user": {
      "displayName": "Hoàng Anh Nguyễn",
      "userId": "15960535841704227682"
     },
     "user_tz": -420
    },
    "id": "Hb2LJy16_uDm"
   },
   "outputs": [],
   "source": [
    "train_df = train_df.reset_index(drop=True)"
   ]
  },
  {
   "cell_type": "code",
   "execution_count": 12,
   "id": "OjUq08JU_uDo",
   "metadata": {
    "executionInfo": {
     "elapsed": 5,
     "status": "ok",
     "timestamp": 1733395889726,
     "user": {
      "displayName": "Hoàng Anh Nguyễn",
      "userId": "15960535841704227682"
     },
     "user_tz": -420
    },
    "id": "OjUq08JU_uDo"
   },
   "outputs": [],
   "source": [
    "def remove_if_empty(df):\n",
    "    empty_ids = df['text_tokenized'].map(lambda i: len(i)) > 0\n",
    "    idsToDelete = []\n",
    "    for i in range(len(empty_ids)):\n",
    "        if not empty_ids[i]:\n",
    "            idsToDelete.append(i)\n",
    "    for currentID in idsToDelete:\n",
    "        df = df.drop(df[df.index == currentID].index[0])\n",
    "    return df"
   ]
  },
  {
   "cell_type": "code",
   "execution_count": 13,
   "id": "gCe5sRzv_uDp",
   "metadata": {
    "colab": {
     "base_uri": "https://localhost:8080/"
    },
    "executionInfo": {
     "elapsed": 5,
     "status": "ok",
     "timestamp": 1733395889726,
     "user": {
      "displayName": "Hoàng Anh Nguyễn",
      "userId": "15960535841704227682"
     },
     "user_tz": -420
    },
    "id": "gCe5sRzv_uDp",
    "outputId": "cf187218-ad20-477c-82cc-688e0ea4bca5"
   },
   "outputs": [
    {
     "name": "stdout",
     "output_type": "stream",
     "text": [
      "(29708, 7)\n",
      "(29645, 7)\n"
     ]
    }
   ],
   "source": [
    "print(train_df.shape)\n",
    "train_df = remove_if_empty(train_df)\n",
    "print(train_df.shape)"
   ]
  },
  {
   "cell_type": "code",
   "execution_count": 14,
   "id": "BEl1QL5s_uDr",
   "metadata": {
    "colab": {
     "background_save": true,
     "base_uri": "https://localhost:8080/",
     "height": 899
    },
    "id": "BEl1QL5s_uDr",
    "outputId": "073cebdf-b36c-4bd6-eccb-1de0fb2ae7b4"
   },
   "outputs": [
    {
     "name": "stderr",
     "output_type": "stream",
     "text": [
      "e:\\2024_2025_HK1\\TLCN\\telekafka\\Lib\\site-packages\\keras\\src\\layers\\core\\embedding.py:90: UserWarning: Argument `input_length` is deprecated. Just remove it.\n",
      "  warnings.warn(\n"
     ]
    },
    {
     "data": {
      "text/html": [
       "<pre style=\"white-space:pre;overflow-x:auto;line-height:normal;font-family:Menlo,'DejaVu Sans Mono',consolas,'Courier New',monospace\"><span style=\"font-weight: bold\">Model: \"sequential\"</span>\n",
       "</pre>\n"
      ],
      "text/plain": [
       "\u001b[1mModel: \"sequential\"\u001b[0m\n"
      ]
     },
     "metadata": {},
     "output_type": "display_data"
    },
    {
     "data": {
      "text/html": [
       "<pre style=\"white-space:pre;overflow-x:auto;line-height:normal;font-family:Menlo,'DejaVu Sans Mono',consolas,'Courier New',monospace\">┏━━━━━━━━━━━━━━━━━━━━━━━━━━━━━━━━━┳━━━━━━━━━━━━━━━━━━━━━━━━┳━━━━━━━━━━━━━━━┓\n",
       "┃<span style=\"font-weight: bold\"> Layer (type)                    </span>┃<span style=\"font-weight: bold\"> Output Shape           </span>┃<span style=\"font-weight: bold\">       Param # </span>┃\n",
       "┡━━━━━━━━━━━━━━━━━━━━━━━━━━━━━━━━━╇━━━━━━━━━━━━━━━━━━━━━━━━╇━━━━━━━━━━━━━━━┩\n",
       "│ embedding (<span style=\"color: #0087ff; text-decoration-color: #0087ff\">Embedding</span>)           │ ?                      │   <span style=\"color: #00af00; text-decoration-color: #00af00\">0</span> (unbuilt) │\n",
       "├─────────────────────────────────┼────────────────────────┼───────────────┤\n",
       "│ spatial_dropout1d               │ ?                      │             <span style=\"color: #00af00; text-decoration-color: #00af00\">0</span> │\n",
       "│ (<span style=\"color: #0087ff; text-decoration-color: #0087ff\">SpatialDropout1D</span>)              │                        │               │\n",
       "├─────────────────────────────────┼────────────────────────┼───────────────┤\n",
       "│ lstm (<span style=\"color: #0087ff; text-decoration-color: #0087ff\">LSTM</span>)                     │ ?                      │   <span style=\"color: #00af00; text-decoration-color: #00af00\">0</span> (unbuilt) │\n",
       "├─────────────────────────────────┼────────────────────────┼───────────────┤\n",
       "│ dense (<span style=\"color: #0087ff; text-decoration-color: #0087ff\">Dense</span>)                   │ ?                      │   <span style=\"color: #00af00; text-decoration-color: #00af00\">0</span> (unbuilt) │\n",
       "└─────────────────────────────────┴────────────────────────┴───────────────┘\n",
       "</pre>\n"
      ],
      "text/plain": [
       "┏━━━━━━━━━━━━━━━━━━━━━━━━━━━━━━━━━┳━━━━━━━━━━━━━━━━━━━━━━━━┳━━━━━━━━━━━━━━━┓\n",
       "┃\u001b[1m \u001b[0m\u001b[1mLayer (type)                   \u001b[0m\u001b[1m \u001b[0m┃\u001b[1m \u001b[0m\u001b[1mOutput Shape          \u001b[0m\u001b[1m \u001b[0m┃\u001b[1m \u001b[0m\u001b[1m      Param #\u001b[0m\u001b[1m \u001b[0m┃\n",
       "┡━━━━━━━━━━━━━━━━━━━━━━━━━━━━━━━━━╇━━━━━━━━━━━━━━━━━━━━━━━━╇━━━━━━━━━━━━━━━┩\n",
       "│ embedding (\u001b[38;5;33mEmbedding\u001b[0m)           │ ?                      │   \u001b[38;5;34m0\u001b[0m (unbuilt) │\n",
       "├─────────────────────────────────┼────────────────────────┼───────────────┤\n",
       "│ spatial_dropout1d               │ ?                      │             \u001b[38;5;34m0\u001b[0m │\n",
       "│ (\u001b[38;5;33mSpatialDropout1D\u001b[0m)              │                        │               │\n",
       "├─────────────────────────────────┼────────────────────────┼───────────────┤\n",
       "│ lstm (\u001b[38;5;33mLSTM\u001b[0m)                     │ ?                      │   \u001b[38;5;34m0\u001b[0m (unbuilt) │\n",
       "├─────────────────────────────────┼────────────────────────┼───────────────┤\n",
       "│ dense (\u001b[38;5;33mDense\u001b[0m)                   │ ?                      │   \u001b[38;5;34m0\u001b[0m (unbuilt) │\n",
       "└─────────────────────────────────┴────────────────────────┴───────────────┘\n"
      ]
     },
     "metadata": {},
     "output_type": "display_data"
    },
    {
     "data": {
      "text/html": [
       "<pre style=\"white-space:pre;overflow-x:auto;line-height:normal;font-family:Menlo,'DejaVu Sans Mono',consolas,'Courier New',monospace\"><span style=\"font-weight: bold\"> Total params: </span><span style=\"color: #00af00; text-decoration-color: #00af00\">0</span> (0.00 B)\n",
       "</pre>\n"
      ],
      "text/plain": [
       "\u001b[1m Total params: \u001b[0m\u001b[38;5;34m0\u001b[0m (0.00 B)\n"
      ]
     },
     "metadata": {},
     "output_type": "display_data"
    },
    {
     "data": {
      "text/html": [
       "<pre style=\"white-space:pre;overflow-x:auto;line-height:normal;font-family:Menlo,'DejaVu Sans Mono',consolas,'Courier New',monospace\"><span style=\"font-weight: bold\"> Trainable params: </span><span style=\"color: #00af00; text-decoration-color: #00af00\">0</span> (0.00 B)\n",
       "</pre>\n"
      ],
      "text/plain": [
       "\u001b[1m Trainable params: \u001b[0m\u001b[38;5;34m0\u001b[0m (0.00 B)\n"
      ]
     },
     "metadata": {},
     "output_type": "display_data"
    },
    {
     "data": {
      "text/html": [
       "<pre style=\"white-space:pre;overflow-x:auto;line-height:normal;font-family:Menlo,'DejaVu Sans Mono',consolas,'Courier New',monospace\"><span style=\"font-weight: bold\"> Non-trainable params: </span><span style=\"color: #00af00; text-decoration-color: #00af00\">0</span> (0.00 B)\n",
       "</pre>\n"
      ],
      "text/plain": [
       "\u001b[1m Non-trainable params: \u001b[0m\u001b[38;5;34m0\u001b[0m (0.00 B)\n"
      ]
     },
     "metadata": {},
     "output_type": "display_data"
    },
    {
     "name": "stdout",
     "output_type": "stream",
     "text": [
      "None\n",
      "Epoch 1/50\n",
      "\u001b[1m742/742\u001b[0m \u001b[32m━━━━━━━━━━━━━━━━━━━━\u001b[0m\u001b[37m\u001b[0m \u001b[1m27s\u001b[0m 33ms/step - accuracy: 0.5825 - loss: 0.9292 - val_accuracy: 0.6698 - val_loss: 0.7535\n",
      "Epoch 2/50\n",
      "\u001b[1m742/742\u001b[0m \u001b[32m━━━━━━━━━━━━━━━━━━━━\u001b[0m\u001b[37m\u001b[0m \u001b[1m24s\u001b[0m 32ms/step - accuracy: 0.6908 - loss: 0.7104 - val_accuracy: 0.6971 - val_loss: 0.7096\n",
      "Epoch 3/50\n",
      "\u001b[1m742/742\u001b[0m \u001b[32m━━━━━━━━━━━━━━━━━━━━\u001b[0m\u001b[37m\u001b[0m \u001b[1m24s\u001b[0m 33ms/step - accuracy: 0.7275 - loss: 0.6526 - val_accuracy: 0.7062 - val_loss: 0.6899\n",
      "Epoch 4/50\n",
      "\u001b[1m742/742\u001b[0m \u001b[32m━━━━━━━━━━━━━━━━━━━━\u001b[0m\u001b[37m\u001b[0m \u001b[1m24s\u001b[0m 33ms/step - accuracy: 0.7479 - loss: 0.6078 - val_accuracy: 0.7254 - val_loss: 0.6683\n",
      "Epoch 5/50\n",
      "\u001b[1m742/742\u001b[0m \u001b[32m━━━━━━━━━━━━━━━━━━━━\u001b[0m\u001b[37m\u001b[0m \u001b[1m24s\u001b[0m 33ms/step - accuracy: 0.7711 - loss: 0.5626 - val_accuracy: 0.7295 - val_loss: 0.6662\n",
      "Epoch 6/50\n",
      "\u001b[1m742/742\u001b[0m \u001b[32m━━━━━━━━━━━━━━━━━━━━\u001b[0m\u001b[37m\u001b[0m \u001b[1m24s\u001b[0m 32ms/step - accuracy: 0.7832 - loss: 0.5284 - val_accuracy: 0.7431 - val_loss: 0.6370\n",
      "Epoch 7/50\n",
      "\u001b[1m742/742\u001b[0m \u001b[32m━━━━━━━━━━━━━━━━━━━━\u001b[0m\u001b[37m\u001b[0m \u001b[1m28s\u001b[0m 37ms/step - accuracy: 0.8048 - loss: 0.4796 - val_accuracy: 0.7448 - val_loss: 0.6559\n",
      "Epoch 8/50\n",
      "\u001b[1m742/742\u001b[0m \u001b[32m━━━━━━━━━━━━━━━━━━━━\u001b[0m\u001b[37m\u001b[0m \u001b[1m21s\u001b[0m 29ms/step - accuracy: 0.8180 - loss: 0.4509 - val_accuracy: 0.7541 - val_loss: 0.6193\n",
      "Epoch 9/50\n",
      "\u001b[1m742/742\u001b[0m \u001b[32m━━━━━━━━━━━━━━━━━━━━\u001b[0m\u001b[37m\u001b[0m \u001b[1m16s\u001b[0m 22ms/step - accuracy: 0.8264 - loss: 0.4263 - val_accuracy: 0.7541 - val_loss: 0.6410\n",
      "Epoch 10/50\n",
      "\u001b[1m742/742\u001b[0m \u001b[32m━━━━━━━━━━━━━━━━━━━━\u001b[0m\u001b[37m\u001b[0m \u001b[1m16s\u001b[0m 21ms/step - accuracy: 0.8321 - loss: 0.4053 - val_accuracy: 0.7639 - val_loss: 0.6421\n",
      "Epoch 11/50\n",
      "\u001b[1m742/742\u001b[0m \u001b[32m━━━━━━━━━━━━━━━━━━━━\u001b[0m\u001b[37m\u001b[0m \u001b[1m16s\u001b[0m 22ms/step - accuracy: 0.8403 - loss: 0.3838 - val_accuracy: 0.7678 - val_loss: 0.6457\n",
      "Epoch 12/50\n",
      "\u001b[1m742/742\u001b[0m \u001b[32m━━━━━━━━━━━━━━━━━━━━\u001b[0m\u001b[37m\u001b[0m \u001b[1m16s\u001b[0m 21ms/step - accuracy: 0.8476 - loss: 0.3689 - val_accuracy: 0.7703 - val_loss: 0.6529\n",
      "Epoch 13/50\n",
      "\u001b[1m742/742\u001b[0m \u001b[32m━━━━━━━━━━━━━━━━━━━━\u001b[0m\u001b[37m\u001b[0m \u001b[1m16s\u001b[0m 21ms/step - accuracy: 0.8590 - loss: 0.3469 - val_accuracy: 0.7742 - val_loss: 0.6924\n",
      "Epoch 14/50\n",
      "\u001b[1m742/742\u001b[0m \u001b[32m━━━━━━━━━━━━━━━━━━━━\u001b[0m\u001b[37m\u001b[0m \u001b[1m18s\u001b[0m 24ms/step - accuracy: 0.8679 - loss: 0.3233 - val_accuracy: 0.7764 - val_loss: 0.6830\n",
      "Epoch 15/50\n",
      "\u001b[1m742/742\u001b[0m \u001b[32m━━━━━━━━━━━━━━━━━━━━\u001b[0m\u001b[37m\u001b[0m \u001b[1m16s\u001b[0m 21ms/step - accuracy: 0.8734 - loss: 0.3127 - val_accuracy: 0.7681 - val_loss: 0.7255\n",
      "Epoch 16/50\n",
      "\u001b[1m742/742\u001b[0m \u001b[32m━━━━━━━━━━━━━━━━━━━━\u001b[0m\u001b[37m\u001b[0m \u001b[1m16s\u001b[0m 21ms/step - accuracy: 0.8718 - loss: 0.3001 - val_accuracy: 0.7764 - val_loss: 0.7135\n",
      "Epoch 17/50\n",
      "\u001b[1m742/742\u001b[0m \u001b[32m━━━━━━━━━━━━━━━━━━━━\u001b[0m\u001b[37m\u001b[0m \u001b[1m16s\u001b[0m 22ms/step - accuracy: 0.8834 - loss: 0.2850 - val_accuracy: 0.7794 - val_loss: 0.7443\n",
      "Epoch 18/50\n",
      "\u001b[1m742/742\u001b[0m \u001b[32m━━━━━━━━━━━━━━━━━━━━\u001b[0m\u001b[37m\u001b[0m \u001b[1m17s\u001b[0m 23ms/step - accuracy: 0.8902 - loss: 0.2761 - val_accuracy: 0.7789 - val_loss: 0.7301\n",
      "Epoch 19/50\n",
      "\u001b[1m742/742\u001b[0m \u001b[32m━━━━━━━━━━━━━━━━━━━━\u001b[0m\u001b[37m\u001b[0m \u001b[1m18s\u001b[0m 24ms/step - accuracy: 0.8898 - loss: 0.2707 - val_accuracy: 0.7831 - val_loss: 0.7666\n",
      "Epoch 20/50\n",
      "\u001b[1m742/742\u001b[0m \u001b[32m━━━━━━━━━━━━━━━━━━━━\u001b[0m\u001b[37m\u001b[0m \u001b[1m18s\u001b[0m 24ms/step - accuracy: 0.8922 - loss: 0.2626 - val_accuracy: 0.7792 - val_loss: 0.7562\n",
      "Epoch 21/50\n",
      "\u001b[1m742/742\u001b[0m \u001b[32m━━━━━━━━━━━━━━━━━━━━\u001b[0m\u001b[37m\u001b[0m \u001b[1m16s\u001b[0m 22ms/step - accuracy: 0.9048 - loss: 0.2340 - val_accuracy: 0.7833 - val_loss: 0.7825\n",
      "Epoch 22/50\n",
      "\u001b[1m742/742\u001b[0m \u001b[32m━━━━━━━━━━━━━━━━━━━━\u001b[0m\u001b[37m\u001b[0m \u001b[1m19s\u001b[0m 25ms/step - accuracy: 0.9069 - loss: 0.2341 - val_accuracy: 0.7871 - val_loss: 0.7758\n",
      "Epoch 23/50\n",
      "\u001b[1m742/742\u001b[0m \u001b[32m━━━━━━━━━━━━━━━━━━━━\u001b[0m\u001b[37m\u001b[0m \u001b[1m25s\u001b[0m 34ms/step - accuracy: 0.9116 - loss: 0.2197 - val_accuracy: 0.7841 - val_loss: 0.7813\n",
      "Epoch 24/50\n",
      "\u001b[1m742/742\u001b[0m \u001b[32m━━━━━━━━━━━━━━━━━━━━\u001b[0m\u001b[37m\u001b[0m \u001b[1m25s\u001b[0m 34ms/step - accuracy: 0.9101 - loss: 0.2243 - val_accuracy: 0.7858 - val_loss: 0.7946\n",
      "Epoch 25/50\n",
      "\u001b[1m742/742\u001b[0m \u001b[32m━━━━━━━━━━━━━━━━━━━━\u001b[0m\u001b[37m\u001b[0m \u001b[1m25s\u001b[0m 33ms/step - accuracy: 0.9084 - loss: 0.2198 - val_accuracy: 0.7893 - val_loss: 0.8109\n",
      "Epoch 26/50\n",
      "\u001b[1m742/742\u001b[0m \u001b[32m━━━━━━━━━━━━━━━━━━━━\u001b[0m\u001b[37m\u001b[0m \u001b[1m25s\u001b[0m 33ms/step - accuracy: 0.9179 - loss: 0.2009 - val_accuracy: 0.7924 - val_loss: 0.8288\n",
      "Epoch 27/50\n",
      "\u001b[1m742/742\u001b[0m \u001b[32m━━━━━━━━━━━━━━━━━━━━\u001b[0m\u001b[37m\u001b[0m \u001b[1m25s\u001b[0m 33ms/step - accuracy: 0.9203 - loss: 0.1981 - val_accuracy: 0.7909 - val_loss: 0.8260\n",
      "Epoch 28/50\n",
      "\u001b[1m742/742\u001b[0m \u001b[32m━━━━━━━━━━━━━━━━━━━━\u001b[0m\u001b[37m\u001b[0m \u001b[1m25s\u001b[0m 34ms/step - accuracy: 0.9212 - loss: 0.1914 - val_accuracy: 0.7904 - val_loss: 0.8366\n",
      "Epoch 29/50\n",
      "\u001b[1m742/742\u001b[0m \u001b[32m━━━━━━━━━━━━━━━━━━━━\u001b[0m\u001b[37m\u001b[0m \u001b[1m24s\u001b[0m 33ms/step - accuracy: 0.9215 - loss: 0.1876 - val_accuracy: 0.7871 - val_loss: 0.8437\n",
      "Epoch 30/50\n",
      "\u001b[1m742/742\u001b[0m \u001b[32m━━━━━━━━━━━━━━━━━━━━\u001b[0m\u001b[37m\u001b[0m \u001b[1m25s\u001b[0m 33ms/step - accuracy: 0.9238 - loss: 0.1878 - val_accuracy: 0.7944 - val_loss: 0.8558\n",
      "Epoch 31/50\n",
      "\u001b[1m742/742\u001b[0m \u001b[32m━━━━━━━━━━━━━━━━━━━━\u001b[0m\u001b[37m\u001b[0m \u001b[1m21s\u001b[0m 29ms/step - accuracy: 0.9255 - loss: 0.1798 - val_accuracy: 0.7909 - val_loss: 0.8876\n",
      "Epoch 32/50\n",
      "\u001b[1m742/742\u001b[0m \u001b[32m━━━━━━━━━━━━━━━━━━━━\u001b[0m\u001b[37m\u001b[0m \u001b[1m16s\u001b[0m 22ms/step - accuracy: 0.9275 - loss: 0.1757 - val_accuracy: 0.7914 - val_loss: 0.9087\n",
      "Epoch 33/50\n",
      "\u001b[1m742/742\u001b[0m \u001b[32m━━━━━━━━━━━━━━━━━━━━\u001b[0m\u001b[37m\u001b[0m \u001b[1m18s\u001b[0m 24ms/step - accuracy: 0.9283 - loss: 0.1711 - val_accuracy: 0.7929 - val_loss: 0.9389\n",
      "Epoch 34/50\n",
      "\u001b[1m742/742\u001b[0m \u001b[32m━━━━━━━━━━━━━━━━━━━━\u001b[0m\u001b[37m\u001b[0m \u001b[1m16s\u001b[0m 22ms/step - accuracy: 0.9338 - loss: 0.1650 - val_accuracy: 0.7882 - val_loss: 0.9258\n",
      "Epoch 35/50\n",
      "\u001b[1m742/742\u001b[0m \u001b[32m━━━━━━━━━━━━━━━━━━━━\u001b[0m\u001b[37m\u001b[0m \u001b[1m16s\u001b[0m 21ms/step - accuracy: 0.9366 - loss: 0.1548 - val_accuracy: 0.7939 - val_loss: 0.9278\n",
      "Epoch 36/50\n",
      "\u001b[1m742/742\u001b[0m \u001b[32m━━━━━━━━━━━━━━━━━━━━\u001b[0m\u001b[37m\u001b[0m \u001b[1m17s\u001b[0m 23ms/step - accuracy: 0.9363 - loss: 0.1600 - val_accuracy: 0.7936 - val_loss: 0.9248\n",
      "Epoch 37/50\n",
      "\u001b[1m742/742\u001b[0m \u001b[32m━━━━━━━━━━━━━━━━━━━━\u001b[0m\u001b[37m\u001b[0m \u001b[1m16s\u001b[0m 22ms/step - accuracy: 0.9374 - loss: 0.1551 - val_accuracy: 0.7902 - val_loss: 0.9320\n",
      "Epoch 38/50\n",
      "\u001b[1m742/742\u001b[0m \u001b[32m━━━━━━━━━━━━━━━━━━━━\u001b[0m\u001b[37m\u001b[0m \u001b[1m16s\u001b[0m 22ms/step - accuracy: 0.9413 - loss: 0.1452 - val_accuracy: 0.7931 - val_loss: 0.9206\n",
      "Epoch 39/50\n",
      "\u001b[1m742/742\u001b[0m \u001b[32m━━━━━━━━━━━━━━━━━━━━\u001b[0m\u001b[37m\u001b[0m \u001b[1m16s\u001b[0m 21ms/step - accuracy: 0.9370 - loss: 0.1530 - val_accuracy: 0.7917 - val_loss: 0.9742\n",
      "Epoch 40/50\n",
      "\u001b[1m742/742\u001b[0m \u001b[32m━━━━━━━━━━━━━━━━━━━━\u001b[0m\u001b[37m\u001b[0m \u001b[1m14s\u001b[0m 19ms/step - accuracy: 0.9413 - loss: 0.1467 - val_accuracy: 0.7952 - val_loss: 0.9705\n",
      "Epoch 41/50\n",
      "\u001b[1m742/742\u001b[0m \u001b[32m━━━━━━━━━━━━━━━━━━━━\u001b[0m\u001b[37m\u001b[0m \u001b[1m15s\u001b[0m 20ms/step - accuracy: 0.9411 - loss: 0.1478 - val_accuracy: 0.7979 - val_loss: 0.9793\n",
      "Epoch 42/50\n",
      "\u001b[1m742/742\u001b[0m \u001b[32m━━━━━━━━━━━━━━━━━━━━\u001b[0m\u001b[37m\u001b[0m \u001b[1m15s\u001b[0m 20ms/step - accuracy: 0.9447 - loss: 0.1368 - val_accuracy: 0.7934 - val_loss: 0.9868\n",
      "Epoch 43/50\n",
      "\u001b[1m742/742\u001b[0m \u001b[32m━━━━━━━━━━━━━━━━━━━━\u001b[0m\u001b[37m\u001b[0m \u001b[1m16s\u001b[0m 21ms/step - accuracy: 0.9447 - loss: 0.1378 - val_accuracy: 0.7934 - val_loss: 0.9989\n",
      "Epoch 44/50\n",
      "\u001b[1m742/742\u001b[0m \u001b[32m━━━━━━━━━━━━━━━━━━━━\u001b[0m\u001b[37m\u001b[0m \u001b[1m16s\u001b[0m 22ms/step - accuracy: 0.9411 - loss: 0.1383 - val_accuracy: 0.7929 - val_loss: 0.9797\n",
      "Epoch 45/50\n",
      "\u001b[1m742/742\u001b[0m \u001b[32m━━━━━━━━━━━━━━━━━━━━\u001b[0m\u001b[37m\u001b[0m \u001b[1m14s\u001b[0m 19ms/step - accuracy: 0.9493 - loss: 0.1288 - val_accuracy: 0.7941 - val_loss: 0.9835\n",
      "Epoch 46/50\n",
      "\u001b[1m742/742\u001b[0m \u001b[32m━━━━━━━━━━━━━━━━━━━━\u001b[0m\u001b[37m\u001b[0m \u001b[1m14s\u001b[0m 19ms/step - accuracy: 0.9468 - loss: 0.1325 - val_accuracy: 0.7939 - val_loss: 1.0167\n",
      "Epoch 47/50\n",
      "\u001b[1m742/742\u001b[0m \u001b[32m━━━━━━━━━━━━━━━━━━━━\u001b[0m\u001b[37m\u001b[0m \u001b[1m14s\u001b[0m 19ms/step - accuracy: 0.9442 - loss: 0.1377 - val_accuracy: 0.7868 - val_loss: 1.0094\n",
      "Epoch 48/50\n",
      "\u001b[1m742/742\u001b[0m \u001b[32m━━━━━━━━━━━━━━━━━━━━\u001b[0m\u001b[37m\u001b[0m \u001b[1m14s\u001b[0m 19ms/step - accuracy: 0.9438 - loss: 0.1339 - val_accuracy: 0.7920 - val_loss: 1.0284\n",
      "Epoch 49/50\n",
      "\u001b[1m742/742\u001b[0m \u001b[32m━━━━━━━━━━━━━━━━━━━━\u001b[0m\u001b[37m\u001b[0m \u001b[1m14s\u001b[0m 19ms/step - accuracy: 0.9471 - loss: 0.1276 - val_accuracy: 0.7925 - val_loss: 1.0387\n",
      "Epoch 50/50\n",
      "\u001b[1m742/742\u001b[0m \u001b[32m━━━━━━━━━━━━━━━━━━━━\u001b[0m\u001b[37m\u001b[0m \u001b[1m15s\u001b[0m 21ms/step - accuracy: 0.9514 - loss: 0.1215 - val_accuracy: 0.7947 - val_loss: 1.0425\n",
      "\u001b[1m186/186\u001b[0m \u001b[32m━━━━━━━━━━━━━━━━━━━━\u001b[0m\u001b[37m\u001b[0m \u001b[1m1s\u001b[0m 7ms/step - accuracy: 0.7978 - loss: 1.0282\n"
     ]
    },
    {
     "data": {
      "text/plain": [
       "[1.04254949092865, 0.7947377562522888]"
      ]
     },
     "execution_count": 14,
     "metadata": {},
     "output_type": "execute_result"
    }
   ],
   "source": [
    "lb=LabelEncoder()\n",
    "train_df['airline_sentiment'] = lb.fit_transform(train_df['airline_sentiment'])\n",
    "\n",
    "tokenizer = Tokenizer(num_words=2000, split=' ')\n",
    "tokenizer.fit_on_texts(train_df['text_tokenized'].values)\n",
    "X = tokenizer.texts_to_sequences(train_df['text'].values)\n",
    "X = pad_sequences(X)\n",
    "\n",
    "model = Sequential()\n",
    "model.add(Embedding(2000, 128, input_length = X.shape[1]))\n",
    "model.add(SpatialDropout1D(0.4))\n",
    "model.add(LSTM(196, dropout=0.2, recurrent_dropout=0.2))\n",
    "model.add(Dense(3,activation='softmax'))\n",
    "model.compile(loss = 'categorical_crossentropy', optimizer='adamw', metrics = ['accuracy'])\n",
    "print(model.summary())\n",
    "\n",
    "#Splitting the data into training and testing\n",
    "y=pd.get_dummies(train_df['airline_sentiment'])\n",
    "X_train, X_test, y_train, y_test = train_test_split(X,y, test_size = 0.2, random_state = 42)\n",
    "\n",
    "batch_size=32\n",
    "model.fit(X_train, y_train, epochs = 50, validation_data = (X_test, y_test),batch_size=batch_size, verbose = 'auto')\n",
    "model.evaluate(X_test,y_test)"
   ]
  },
  {
   "cell_type": "code",
   "execution_count": 15,
   "id": "0WFtanzJ_uDs",
   "metadata": {
    "colab": {
     "background_save": true
    },
    "id": "0WFtanzJ_uDs"
   },
   "outputs": [
    {
     "name": "stderr",
     "output_type": "stream",
     "text": [
      "WARNING:absl:You are saving your model as an HDF5 file via `model.save()` or `keras.saving.save_model(model)`. This file format is considered legacy. We recommend using instead the native Keras format, e.g. `model.save('my_model.keras')` or `keras.saving.save_model(model, 'my_model.keras')`. \n"
     ]
    }
   ],
   "source": [
    "from pathlib import Path\n",
    "\n",
    "model_structure = model.to_json()\n",
    "f = Path(\"../Train_LSTM/model_structure_new.json\")\n",
    "f.write_text(model_structure)\n",
    "\n",
    "# Đổi tên tệp lưu trọng số mô hình\n",
    "model.save_weights(\"../Train_LSTM/model_weights_new.weights.h5\")\n",
    "\n",
    "model.save('../Train_LSTM/model_new.h5')\n",
    "\n",
    "max_length = str(len(X_train[0]))\n",
    "f = Path(\"../Train_LSTM/X_train_max_length_new.txt\")\n",
    "f.write_text(max_length)\n",
    "\n",
    "train_df = train_df.reset_index(drop=True)\n",
    "train_df[['text_tokenized']].to_csv(\"../Train_LSTM/train_text_vals_new.csv\")\n"
   ]
  },
  {
   "cell_type": "code",
   "execution_count": 16,
   "id": "eaGkpNMB_uDu",
   "metadata": {
    "colab": {
     "background_save": true
    },
    "id": "eaGkpNMB_uDu"
   },
   "outputs": [
    {
     "name": "stdout",
     "output_type": "stream",
     "text": [
      "\u001b[1m186/186\u001b[0m \u001b[32m━━━━━━━━━━━━━━━━━━━━\u001b[0m\u001b[37m\u001b[0m \u001b[1m1s\u001b[0m 7ms/step\n"
     ]
    },
    {
     "data": {
      "image/png": "[encoded data removed]",
      "text/plain": [
       "<Figure size 640x480 with 1 Axes>"
      ]
     },
     "metadata": {},
     "output_type": "display_data"
    },
    {
     "data": {
      "image/png": "[encoded data removed]",
      "text/plain": [
       "<Figure size 640x480 with 1 Axes>"
      ]
     },
     "metadata": {},
     "output_type": "display_data"
    },
    {
     "data": {
      "image/png": "[encoded data removed]",
      "text/plain": [
       "<Figure size 640x480 with 1 Axes>"
      ]
     },
     "metadata": {},
     "output_type": "display_data"
    }
   ],
   "source": [
    "# ROC Curve Plotting\n",
    "from sklearn.metrics import roc_curve, auc\n",
    "\n",
    "fpr, tpr, roc_auc = {}, {}, {}\n",
    "\n",
    "y_test = y_test.to_numpy()\n",
    "y_score = model.predict(X_test)\n",
    "\n",
    "label = ['Positive','Neutral','Negative']\n",
    "n_classes = 3\n",
    "\n",
    "for i in range(n_classes):\n",
    "    fpr[i], tpr[i], _ = roc_curve(y_test[:, i], y_score[:, i])\n",
    "    roc_auc[i] = auc(fpr[i], tpr[i])\n",
    "\n",
    "fpr[\"micro\"], tpr[\"micro\"], _ = roc_curve(y_test.ravel(), y_score.ravel())\n",
    "roc_auc[\"micro\"] = auc(fpr[\"micro\"], tpr[\"micro\"])\n",
    "\n",
    "for nc in range(3):\n",
    "    plt.figure()\n",
    "    plt.plot( fpr[nc], tpr[nc],\n",
    "        color=\"red\", lw=2, label=\"ROC curve (area = %0.2f)\" % roc_auc[nc])\n",
    "    plt.plot([0, 1], [0, 1], color=\"navy\", lw=2, linestyle=\"--\")\n",
    "    plt.xlim([0.0, 1.0])\n",
    "    plt.ylim([0.0, 1.05])\n",
    "    plt.xlabel(\"False Positive Rate\")\n",
    "    plt.ylabel(\"True Positive Rate\")\n",
    "    plt.title(\"ROC Curve \"+label[nc])\n",
    "    plt.legend(loc=\"lower right\")\n",
    "    plt.show()"
   ]
  },
  {
   "cell_type": "code",
   "execution_count": null,
   "id": "qnQKiFY1E0H9",
   "metadata": {
    "colab": {
     "background_save": true
    },
    "id": "qnQKiFY1E0H9"
   },
   "outputs": [],
   "source": []
  }
 ],
 "metadata": {
  "accelerator": "GPU",
  "colab": {
   "gpuType": "T4",
   "provenance": []
  },
  "kernelspec": {
   "display_name": "telekafka",
   "language": "python",
   "name": "python3"
  },
  "language_info": {
   "codemirror_mode": {
    "name": "ipython",
    "version": 3
   },
   "file_extension": ".py",
   "mimetype": "text/x-python",
   "name": "python",
   "nbconvert_exporter": "python",
   "pygments_lexer": "ipython3",
   "version": "3.11.2"
  }
 },
 "nbformat": 4,
 "nbformat_minor": 5
}
